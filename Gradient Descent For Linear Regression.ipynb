{
 "cells": [
  {
   "cell_type": "code",
   "execution_count": 1,
   "id": "ee66a1a9",
   "metadata": {},
   "outputs": [],
   "source": [
    "from sklearn.model_selection import train_test_split\n",
    "import pandas as pd\n",
    "import numpy as np\n",
    "import seaborn as sns\n",
    "import matplotlib.pyplot as plt"
   ]
  },
  {
   "cell_type": "code",
   "execution_count": 151,
   "id": "fdbc8c51",
   "metadata": {},
   "outputs": [],
   "source": [
    "def generate_dataset(size, n_features, theta, std):\n",
    "    import pandas as pd\n",
    "    import numpy as np\n",
    "    assert n_features == len(theta)\n",
    "    theta = np.array(theta).reshape(len(theta), 1)\n",
    "    df = pd.DataFrame()\n",
    "    for i in range(n_features):\n",
    "        mean = np.random.randint(2, 10)\n",
    "        std = np.random.randint(2, 15)\n",
    "        #print('mean : {}'.format(mean))\n",
    "        #print('std : {}'.format(std))\n",
    "        df['f_{}'.format(i+1)] = np.random.normal(mean, std, size)\n",
    "    features_values = df[:].to_numpy()\n",
    "    #print(features_values.shape)\n",
    "    error = np.random.randn(size).reshape(size, 1)*std\n",
    "    df['t'] = features_values.dot(theta) + error\n",
    "    return df"
   ]
  },
  {
   "cell_type": "code",
   "execution_count": 152,
   "id": "817a0016",
   "metadata": {},
   "outputs": [],
   "source": [
    "def gradient(x, y, weights):\n",
    "    x = x.to_numpy()\n",
    "    y = y.to_numpy()\n",
    "    print(x.shape)\n",
    "    print(y.shape)\n",
    "    print(weights.shape)\n",
    "#     weights = weights.to_numpy()\n",
    "    output = np.dot(np.transpose(x), (np.subtract(np.dot(x, weights), y)))\n",
    "    print(output.shape)\n",
    "    return output"
   ]
  },
  {
   "cell_type": "code",
   "execution_count": 153,
   "id": "9a7f74b4",
   "metadata": {},
   "outputs": [],
   "source": [
    "def cost_function(weights, x, y):\n",
    "#     j = np.mean(np.square(np.subtract(x.dot(weights), y)))/2\n",
    "    j = np.mean(np.square(np.subtract(np.dot(x, weights), y)))/2\n",
    "    return j.item()"
   ]
  },
  {
   "cell_type": "code",
   "execution_count": 154,
   "id": "a7833b90",
   "metadata": {},
   "outputs": [],
   "source": [
    "def gradient_descent(x_train, y_train, alpha, batch_size, weights):\n",
    "    from IPython.display import display, clear_output\n",
    "    import time\n",
    "    weights = np.array(weights).reshape(-1, 1)\n",
    "    x_train_mod = x_train.copy()\n",
    "    x_train_mod.insert(loc=0, column='f_0', value=np.ones(x_train.shape[0]))\n",
    "    total_sample = len(y_train) # or length(x_train)\n",
    "    k = alpha/batch_size\n",
    "    j_prev = 100000000\n",
    "    t = 0\n",
    "    while True:\n",
    "        for i in range(0 ,total_sample, batch_size):\n",
    "#             print(i)\n",
    "            x_data = x_train_mod.iloc[i:i+batch_size, :]\n",
    "            y_data = y_train.iloc[i:i+batch_size, :]\n",
    "            grad = gradient(x_data, y_data, weights)\n",
    "#             print('grad : {}'.format(grad))\n",
    "            weights = np.subtract(weights, k*grad)\n",
    "#             print('weights : {}'.format(weights))\n",
    "            j = cost_function(weights, x_data, y_data)\n",
    "            display('Iteration '+str(t) + ' sample '+ str(i) + '-----j : {}'.format(j)+ '-----j_prev : {}'.format(j_prev))\n",
    "#             print('j : {}'.format(j))\n",
    "#             print('j_prev : {}'.format(j_prev))\n",
    "            time.sleep(1)\n",
    "            clear_output(wait=True)\n",
    "            if abs(j - j_prev) < 0.001:\n",
    "                break\n",
    "            j_prev = j\n",
    "        else:\n",
    "            t += 1\n",
    "            continue\n",
    "        break\n",
    "    return weights"
   ]
  },
  {
   "cell_type": "code",
   "execution_count": 155,
   "id": "03313339",
   "metadata": {},
   "outputs": [],
   "source": [
    "def predict(x_test, weights):\n",
    "    x_test.insert(loc=0, column='f_0', value = np.ones(x_test.shape[0]))\n",
    "    x_test = x_test.to_numpy()\n",
    "    output = np.dot(x_test, weights)\n",
    "    return output"
   ]
  },
  {
   "cell_type": "code",
   "execution_count": 173,
   "id": "1605940b",
   "metadata": {},
   "outputs": [],
   "source": [
    "size = 1000\n",
    "n_features = 3\n",
    "theta = [1, 4, 3]\n",
    "std = 10\n",
    "initial_weights = [1, 1, 1, 1] # n + 1 length\n",
    "alpha = 0.01\n",
    "batch_size = 1000 \n",
    "# we will use batch gradient descent here bcoz others will not converge,\n",
    "#for others we have other implementation using alpha decay"
   ]
  },
  {
   "cell_type": "code",
   "execution_count": 174,
   "id": "443e4183",
   "metadata": {},
   "outputs": [
    {
     "name": "stdout",
     "output_type": "stream",
     "text": [
      "[[0.99488134]\n",
      " [0.89926613]\n",
      " [3.97464366]\n",
      " [2.93319793]]\n"
     ]
    }
   ],
   "source": [
    "a = generate_dataset(size, n_features, theta, std)\n",
    "xtrain, xtest, ytrain, ytest = train_test_split(a.iloc[:, :-1], a.iloc[:, -1:], test_size=0.3)\n",
    "w_output = gradient_descent(xtrain, ytrain, alpha, batch_size, initial_weights)\n",
    "print(w_output)"
   ]
  },
  {
   "cell_type": "code",
   "execution_count": 175,
   "id": "544e5d65",
   "metadata": {},
   "outputs": [
    {
     "data": {
      "image/png": "[encoded data removed]",
      "text/plain": [
       "<Figure size 432x288 with 1 Axes>"
      ]
     },
     "metadata": {
      "needs_background": "light"
     },
     "output_type": "display_data"
    }
   ],
   "source": [
    "pred_values = predict(xtest, w_output)\n",
    "# plt.scatter(ytest, pred_values, c='crimson')\n",
    "# plt.plot(ytest, ytest, 'b-')\n",
    "# plt.show()\n",
    "\n",
    "plt.scatter(ytest, pred_values, c='crimson')\n",
    "p1 = max(np.max(pred_values), float(ytest.max()))\n",
    "p2 = min(np.min(pred_values), float(ytest.min()))\n",
    "plt.plot([p1, p2], [p1, p2], 'b-') # the equation of x = y, (passes through origin)\n",
    "plt.show()"
   ]
  },
  {
   "cell_type": "code",
   "execution_count": null,
   "id": "8d7a0af0",
   "metadata": {},
   "outputs": [],
   "source": [
    "a"
   ]
  },
  {
   "cell_type": "code",
   "execution_count": 71,
   "id": "29d29182",
   "metadata": {},
   "outputs": [
    {
     "data": {
      "text/html": [
       "<div>\n",
       "<style scoped>\n",
       "    .dataframe tbody tr th:only-of-type {\n",
       "        vertical-align: middle;\n",
       "    }\n",
       "\n",
       "    .dataframe tbody tr th {\n",
       "        vertical-align: top;\n",
       "    }\n",
       "\n",
       "    .dataframe thead th {\n",
       "        text-align: right;\n",
       "    }\n",
       "</style>\n",
       "<table border=\"1\" class=\"dataframe\">\n",
       "  <thead>\n",
       "    <tr style=\"text-align: right;\">\n",
       "      <th></th>\n",
       "      <th>t</th>\n",
       "    </tr>\n",
       "  </thead>\n",
       "  <tbody>\n",
       "    <tr>\n",
       "      <th>0</th>\n",
       "      <td>40.744903</td>\n",
       "    </tr>\n",
       "    <tr>\n",
       "      <th>1</th>\n",
       "      <td>48.319294</td>\n",
       "    </tr>\n",
       "    <tr>\n",
       "      <th>2</th>\n",
       "      <td>59.191626</td>\n",
       "    </tr>\n",
       "    <tr>\n",
       "      <th>3</th>\n",
       "      <td>29.368649</td>\n",
       "    </tr>\n",
       "    <tr>\n",
       "      <th>4</th>\n",
       "      <td>41.561711</td>\n",
       "    </tr>\n",
       "    <tr>\n",
       "      <th>5</th>\n",
       "      <td>60.345138</td>\n",
       "    </tr>\n",
       "    <tr>\n",
       "      <th>6</th>\n",
       "      <td>49.071717</td>\n",
       "    </tr>\n",
       "    <tr>\n",
       "      <th>7</th>\n",
       "      <td>10.435528</td>\n",
       "    </tr>\n",
       "    <tr>\n",
       "      <th>8</th>\n",
       "      <td>-8.800589</td>\n",
       "    </tr>\n",
       "    <tr>\n",
       "      <th>9</th>\n",
       "      <td>66.465639</td>\n",
       "    </tr>\n",
       "  </tbody>\n",
       "</table>\n",
       "</div>"
      ],
      "text/plain": [
       "           t\n",
       "0  40.744903\n",
       "1  48.319294\n",
       "2  59.191626\n",
       "3  29.368649\n",
       "4  41.561711\n",
       "5  60.345138\n",
       "6  49.071717\n",
       "7  10.435528\n",
       "8  -8.800589\n",
       "9  66.465639"
      ]
     },
     "execution_count": 71,
     "metadata": {},
     "output_type": "execute_result"
    }
   ],
   "source": [
    "a.iloc[:, -1:]"
   ]
  },
  {
   "cell_type": "code",
   "execution_count": 111,
   "id": "19fab023",
   "metadata": {},
   "outputs": [
    {
     "data": {
      "text/plain": [
       "(3,)"
      ]
     },
     "execution_count": 111,
     "metadata": {},
     "output_type": "execute_result"
    }
   ],
   "source": [
    "np.ones(3).shape"
   ]
  },
  {
   "cell_type": "code",
   "execution_count": 150,
   "id": "217410cf",
   "metadata": {},
   "outputs": [
    {
     "data": {
      "text/html": [
       "<div>\n",
       "<style scoped>\n",
       "    .dataframe tbody tr th:only-of-type {\n",
       "        vertical-align: middle;\n",
       "    }\n",
       "\n",
       "    .dataframe tbody tr th {\n",
       "        vertical-align: top;\n",
       "    }\n",
       "\n",
       "    .dataframe thead th {\n",
       "        text-align: right;\n",
       "    }\n",
       "</style>\n",
       "<table border=\"1\" class=\"dataframe\">\n",
       "  <thead>\n",
       "    <tr style=\"text-align: right;\">\n",
       "      <th></th>\n",
       "      <th>f_0</th>\n",
       "      <th>f_1</th>\n",
       "      <th>f_2</th>\n",
       "      <th>f_3</th>\n",
       "    </tr>\n",
       "  </thead>\n",
       "  <tbody>\n",
       "    <tr>\n",
       "      <th>553</th>\n",
       "      <td>1.0</td>\n",
       "      <td>18.559545</td>\n",
       "      <td>-0.046905</td>\n",
       "      <td>9.020142</td>\n",
       "    </tr>\n",
       "    <tr>\n",
       "      <th>691</th>\n",
       "      <td>1.0</td>\n",
       "      <td>9.737904</td>\n",
       "      <td>5.489347</td>\n",
       "      <td>-2.623160</td>\n",
       "    </tr>\n",
       "    <tr>\n",
       "      <th>908</th>\n",
       "      <td>1.0</td>\n",
       "      <td>15.174322</td>\n",
       "      <td>5.303047</td>\n",
       "      <td>7.235446</td>\n",
       "    </tr>\n",
       "    <tr>\n",
       "      <th>618</th>\n",
       "      <td>1.0</td>\n",
       "      <td>-5.142782</td>\n",
       "      <td>0.410412</td>\n",
       "      <td>4.101196</td>\n",
       "    </tr>\n",
       "    <tr>\n",
       "      <th>586</th>\n",
       "      <td>1.0</td>\n",
       "      <td>-8.854084</td>\n",
       "      <td>-4.448062</td>\n",
       "      <td>13.186638</td>\n",
       "    </tr>\n",
       "    <tr>\n",
       "      <th>...</th>\n",
       "      <td>...</td>\n",
       "      <td>...</td>\n",
       "      <td>...</td>\n",
       "      <td>...</td>\n",
       "    </tr>\n",
       "    <tr>\n",
       "      <th>413</th>\n",
       "      <td>1.0</td>\n",
       "      <td>15.338540</td>\n",
       "      <td>9.920062</td>\n",
       "      <td>-6.695662</td>\n",
       "    </tr>\n",
       "    <tr>\n",
       "      <th>167</th>\n",
       "      <td>1.0</td>\n",
       "      <td>3.729473</td>\n",
       "      <td>6.106491</td>\n",
       "      <td>9.096416</td>\n",
       "    </tr>\n",
       "    <tr>\n",
       "      <th>565</th>\n",
       "      <td>1.0</td>\n",
       "      <td>-3.847923</td>\n",
       "      <td>-2.485563</td>\n",
       "      <td>1.034624</td>\n",
       "    </tr>\n",
       "    <tr>\n",
       "      <th>522</th>\n",
       "      <td>1.0</td>\n",
       "      <td>-1.777741</td>\n",
       "      <td>4.084381</td>\n",
       "      <td>7.556390</td>\n",
       "    </tr>\n",
       "    <tr>\n",
       "      <th>265</th>\n",
       "      <td>1.0</td>\n",
       "      <td>2.019355</td>\n",
       "      <td>-0.396319</td>\n",
       "      <td>6.174353</td>\n",
       "    </tr>\n",
       "  </tbody>\n",
       "</table>\n",
       "<p>300 rows × 4 columns</p>\n",
       "</div>"
      ],
      "text/plain": [
       "     f_0        f_1       f_2        f_3\n",
       "553  1.0  18.559545 -0.046905   9.020142\n",
       "691  1.0   9.737904  5.489347  -2.623160\n",
       "908  1.0  15.174322  5.303047   7.235446\n",
       "618  1.0  -5.142782  0.410412   4.101196\n",
       "586  1.0  -8.854084 -4.448062  13.186638\n",
       "..   ...        ...       ...        ...\n",
       "413  1.0  15.338540  9.920062  -6.695662\n",
       "167  1.0   3.729473  6.106491   9.096416\n",
       "565  1.0  -3.847923 -2.485563   1.034624\n",
       "522  1.0  -1.777741  4.084381   7.556390\n",
       "265  1.0   2.019355 -0.396319   6.174353\n",
       "\n",
       "[300 rows x 4 columns]"
      ]
     },
     "execution_count": 150,
     "metadata": {},
     "output_type": "execute_result"
    }
   ],
   "source": [
    "xtest"
   ]
  },
  {
   "cell_type": "code",
   "execution_count": null,
   "id": "e0ca13ad",
   "metadata": {},
   "outputs": [],
   "source": []
  }
 ],
 "metadata": {
  "kernelspec": {
   "display_name": "Python 3 (ipykernel)",
   "language": "python",
   "name": "python3"
  },
  "language_info": {
   "codemirror_mode": {
    "name": "ipython",
    "version": 3
   },
   "file_extension": ".py",
   "mimetype": "text/x-python",
   "name": "python",
   "nbconvert_exporter": "python",
   "pygments_lexer": "ipython3",
   "version": "3.10.2"
  }
 },
 "nbformat": 4,
 "nbformat_minor": 5
}
