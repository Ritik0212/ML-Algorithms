{
 "cells": [
  {
   "cell_type": "markdown",
   "id": "b62ec4c7",
   "metadata": {},
   "source": [
    "# Logistic Regression without Regularization"
   ]
  },
  {
   "cell_type": "code",
   "execution_count": 1,
   "id": "d214f76b",
   "metadata": {},
   "outputs": [],
   "source": [
    "import pandas as pd\n",
    "import numpy as np\n",
    "import seaborn as sns\n",
    "from sklearn.model_selection import train_test_split\n",
    "import matplotlib.pyplot as plt\n",
    "from sklearn.datasets import make_classification"
   ]
  },
  {
   "cell_type": "code",
   "execution_count": 2,
   "id": "62299efb",
   "metadata": {},
   "outputs": [],
   "source": [
    "def generate_dataset(size, n_features):\n",
    "    a1, a2 = make_classification(n_samples=size, n_features=n_features, n_classes=2, n_informative=n_features, n_redundant=0)\n",
    "    a2 = a2.reshape(-1,1)\n",
    "    a1 = np.hstack((np.ones((a1.shape[0],1)), a1)) # adding bias column to dataset\n",
    "    print('dataset shape x: {} y: {}'.format(a1.shape, a2.shape))\n",
    "    return a1, a2"
   ]
  },
  {
   "cell_type": "code",
   "execution_count": 3,
   "id": "c3ebf3a0",
   "metadata": {},
   "outputs": [],
   "source": [
    "def hypothesis(weights, x):\n",
    "    # x: m x n\n",
    "    # weights: n x 1\n",
    "    h = np.power(1 + np.exp(np.negative(np.dot(x, weights))), -1)\n",
    "    return h # m x 1"
   ]
  },
  {
   "cell_type": "code",
   "execution_count": 4,
   "id": "84dbd2fb",
   "metadata": {},
   "outputs": [],
   "source": [
    "def cost(weights, x, y):\n",
    "    # x: m x n\n",
    "    # y: m x 1\n",
    "    m = y.shape[0]\n",
    "    h = hypothesis(weights, x) # m x 1\n",
    "    j = -(np.dot(np.transpose(y), np.log(h)) + np.dot(np.transpose(1 - y), np.log(1 - h)))/m\n",
    "    #print('cost : {}'.format(j))\n",
    "    return j"
   ]
  },
  {
   "cell_type": "code",
   "execution_count": 5,
   "id": "49840cc9",
   "metadata": {},
   "outputs": [],
   "source": [
    "def update_weights(w, x, y, k):\n",
    "    # x: m x n\n",
    "    # y: m x 1\n",
    "    # weights: n x 1\n",
    "    weights = w[:, :]\n",
    "    weights = weights - k * (np.dot(np.transpose(x), hypothesis(weights, x) - y))\n",
    "    #print('updated weights {}'.format(weights))\n",
    "    return weights"
   ]
  },
  {
   "cell_type": "code",
   "execution_count": 6,
   "id": "3cd7dd87",
   "metadata": {},
   "outputs": [],
   "source": [
    "def gradient_descent(xtrain, ytrain, xval, yval, lr, w, batch_size, threshold_diff):\n",
    "    from IPython.display import display, clear_output\n",
    "    import time\n",
    "    k = lr/batch_size\n",
    "    weights = w[:, :]\n",
    "    total_sample = xtrain.shape[0]\n",
    "    j_prev = np.array([[100000000]])\n",
    "    i = 0\n",
    "    epoch = 0\n",
    "    training_cost = []\n",
    "    validation_cost = []\n",
    "    while True:\n",
    "        for i in range(0 ,total_sample, batch_size):\n",
    "            x_data = xtrain[i:i+batch_size, :]\n",
    "            y_data = ytrain[i:i+batch_size, :]\n",
    "            weights = update_weights(weights, x_data, y_data, k)\n",
    "        j = cost(weights, xtrain, ytrain)\n",
    "        j_val = cost(weights, xval, yval)\n",
    "#         display('Epochs '+str(epochs) + '-----j : {}'.format(j) + '-----j_prev : {}'.format(j_prev))\n",
    "        print('Epoch {}'.format(epoch) + '  -----    j : {}'.format(j.item()) + '    -----   j_prev : {}'.format(j_prev.item()))\n",
    "#         time.sleep(0.1)\n",
    "#         clear_output(wait=True)\n",
    "        epoch += 1\n",
    "        training_cost.append(j.item())\n",
    "        validation_cost.append(j_val.item())\n",
    "        if (j_prev - j) < threshold_diff:\n",
    "            break\n",
    "        j_prev = j\n",
    "    return weights, training_cost, validation_cost, range(1, epoch + 1)"
   ]
  },
  {
   "cell_type": "code",
   "execution_count": 7,
   "id": "fdddcbfb",
   "metadata": {},
   "outputs": [],
   "source": [
    "def predict(weights, xinput):\n",
    "    y = hypothesis(weights, xinput)\n",
    "    output = np.where(y >= 0.5, 1, 0)\n",
    "    return output"
   ]
  },
  {
   "cell_type": "code",
   "execution_count": 8,
   "id": "1f958dd3",
   "metadata": {},
   "outputs": [],
   "source": [
    "def accuracy_score(ytest, pred):\n",
    "    return np.sum(ytest == pred)/ytest.shape[0], np.sum(np.abs(pred_val-ytest))"
   ]
  },
  {
   "cell_type": "code",
   "execution_count": 99,
   "id": "411e3ff2",
   "metadata": {
    "scrolled": true
   },
   "outputs": [
    {
     "name": "stdout",
     "output_type": "stream",
     "text": [
      "dataset shape x: (10000, 501) y: (10000, 1)\n"
     ]
    }
   ],
   "source": [
    "n_features = 500\n",
    "learning_rate = 0.01\n",
    "threshold_diff = 0.0001\n",
    "n_examples = 10000\n",
    "batch_size = 10000\n",
    "# when there are more parameters then model can be complex and training data overfits and validation underfits\n",
    "initial_weights = np.array([0]*(n_features+1)).reshape(-1, 1)\n",
    "xtrain, ytrain = generate_dataset(n_examples, n_features)\n",
    "xtrain, xtest, ytrain, ytest = train_test_split(xtrain, ytrain, test_size=0.8)\n",
    "xval, xtest, yval, ytest = train_test_split(xtest, ytest, test_size=0.2)"
   ]
  },
  {
   "cell_type": "code",
   "execution_count": 100,
   "id": "54fad02a",
   "metadata": {
    "scrolled": true
   },
   "outputs": [
    {
     "name": "stdout",
     "output_type": "stream",
     "text": [
      "Epoch 0  -----    j : 0.624792915772874    -----   j_prev : 100000000\n",
      "Epoch 1  -----    j : 0.576088678940491    -----   j_prev : 0.624792915772874\n",
      "Epoch 2  -----    j : 0.5401054796302189    -----   j_prev : 0.576088678940491\n",
      "Epoch 3  -----    j : 0.512508702026108    -----   j_prev : 0.5401054796302189\n",
      "Epoch 4  -----    j : 0.4906366266575825    -----   j_prev : 0.512508702026108\n",
      "Epoch 5  -----    j : 0.4728198811369101    -----   j_prev : 0.4906366266575825\n",
      "Epoch 6  -----    j : 0.4579755136582195    -----   j_prev : 0.4728198811369101\n",
      "Epoch 7  -----    j : 0.44537568839787456    -----   j_prev : 0.4579755136582195\n",
      "Epoch 8  -----    j : 0.43451478606973437    -----   j_prev : 0.44537568839787456\n",
      "Epoch 9  -----    j : 0.4250309871862408    -----   j_prev : 0.43451478606973437\n",
      "Epoch 10  -----    j : 0.41665851053668557    -----   j_prev : 0.4250309871862408\n",
      "Epoch 11  -----    j : 0.40919758254572913    -----   j_prev : 0.41665851053668557\n",
      "Epoch 12  -----    j : 0.4024949805914723    -----   j_prev : 0.40919758254572913\n",
      "Epoch 13  -----    j : 0.39643107547592477    -----   j_prev : 0.4024949805914723\n",
      "Epoch 14  -----    j : 0.3909109838806945    -----   j_prev : 0.39643107547592477\n",
      "Epoch 15  -----    j : 0.3858583892010904    -----   j_prev : 0.3909109838806945\n",
      "Epoch 16  -----    j : 0.3812111370290773    -----   j_prev : 0.3858583892010904\n",
      "Epoch 17  -----    j : 0.3769180371077059    -----   j_prev : 0.3812111370290773\n",
      "Epoch 18  -----    j : 0.3729365020794499    -----   j_prev : 0.3769180371077059\n",
      "Epoch 19  -----    j : 0.3692307773285586    -----   j_prev : 0.3729365020794499\n",
      "Epoch 20  -----    j : 0.36577059539520956    -----   j_prev : 0.3692307773285586\n",
      "Epoch 21  -----    j : 0.36253014005733847    -----   j_prev : 0.36577059539520956\n",
      "Epoch 22  -----    j : 0.3594872394730115    -----   j_prev : 0.36253014005733847\n",
      "Epoch 23  -----    j : 0.3566227309681408    -----   j_prev : 0.3594872394730115\n",
      "Epoch 24  -----    j : 0.3539199559938111    -----   j_prev : 0.3566227309681408\n",
      "Epoch 25  -----    j : 0.35136435489864903    -----   j_prev : 0.3539199559938111\n",
      "Epoch 26  -----    j : 0.34894313903029067    -----   j_prev : 0.35136435489864903\n",
      "Epoch 27  -----    j : 0.34664502332024744    -----   j_prev : 0.34894313903029067\n",
      "Epoch 28  -----    j : 0.34446000659875187    -----   j_prev : 0.34664502332024744\n",
      "Epoch 29  -----    j : 0.3423791898891715    -----   j_prev : 0.34446000659875187\n",
      "Epoch 30  -----    j : 0.340394625158748    -----   j_prev : 0.3423791898891715\n",
      "Epoch 31  -----    j : 0.3384991886707162    -----   j_prev : 0.340394625158748\n",
      "Epoch 32  -----    j : 0.336686474344256    -----   j_prev : 0.3384991886707162\n",
      "Epoch 33  -----    j : 0.33495070349089495    -----   j_prev : 0.336686474344256\n",
      "Epoch 34  -----    j : 0.3332866480360081    -----   j_prev : 0.33495070349089495\n",
      "Epoch 35  -----    j : 0.3316895649077039    -----   j_prev : 0.3332866480360081\n",
      "Epoch 36  -----    j : 0.330155139723354    -----   j_prev : 0.3316895649077039\n",
      "Epoch 37  -----    j : 0.3286794382562983    -----   j_prev : 0.330155139723354\n",
      "Epoch 38  -----    j : 0.32725886444413255    -----   j_prev : 0.3286794382562983\n",
      "Epoch 39  -----    j : 0.32589012392212957    -----   j_prev : 0.32725886444413255\n",
      "Epoch 40  -----    j : 0.3245701922433718    -----   j_prev : 0.32589012392212957\n",
      "Epoch 41  -----    j : 0.32329628709064584    -----   j_prev : 0.3245701922433718\n",
      "Epoch 42  -----    j : 0.32206584390140053    -----   j_prev : 0.32329628709064584\n",
      "Epoch 43  -----    j : 0.3208764944217539    -----   j_prev : 0.32206584390140053\n",
      "Epoch 44  -----    j : 0.31972604778302255    -----   j_prev : 0.3208764944217539\n",
      "Epoch 45  -----    j : 0.3186124737579652    -----   j_prev : 0.31972604778302255\n",
      "Epoch 46  -----    j : 0.3175338879065605    -----   j_prev : 0.3186124737579652\n",
      "Epoch 47  -----    j : 0.3164885383647855    -----   j_prev : 0.3175338879065605\n",
      "Epoch 48  -----    j : 0.3154747940662207    -----   j_prev : 0.3164885383647855\n",
      "Epoch 49  -----    j : 0.31449113421669656    -----   j_prev : 0.3154747940662207\n",
      "Epoch 50  -----    j : 0.31353613886770915    -----   j_prev : 0.31449113421669656\n",
      "Epoch 51  -----    j : 0.3126084804558126    -----   j_prev : 0.31353613886770915\n",
      "Epoch 52  -----    j : 0.31170691619334934    -----   j_prev : 0.3126084804558126\n",
      "Epoch 53  -----    j : 0.3108302812112768    -----   j_prev : 0.31170691619334934\n",
      "Epoch 54  -----    j : 0.30997748236794    -----   j_prev : 0.3108302812112768\n",
      "Epoch 55  -----    j : 0.3091474926488088    -----   j_prev : 0.30997748236794\n",
      "Epoch 56  -----    j : 0.3083393460917607    -----   j_prev : 0.3091474926488088\n",
      "Epoch 57  -----    j : 0.3075521331806879    -----   j_prev : 0.3083393460917607\n",
      "Epoch 58  -----    j : 0.3067849966572668    -----   j_prev : 0.3075521331806879\n",
      "Epoch 59  -----    j : 0.3060371277068139    -----   j_prev : 0.3067849966572668\n",
      "Epoch 60  -----    j : 0.3053077624794188    -----   j_prev : 0.3060371277068139\n",
      "Epoch 61  -----    j : 0.30459617891210594    -----   j_prev : 0.3053077624794188\n",
      "Epoch 62  -----    j : 0.30390169382174664    -----   j_prev : 0.30459617891210594\n",
      "Epoch 63  -----    j : 0.30322366024189457    -----   j_prev : 0.30390169382174664\n",
      "Epoch 64  -----    j : 0.3025614649797334    -----   j_prev : 0.30322366024189457\n",
      "Epoch 65  -----    j : 0.3019145263719647    -----   j_prev : 0.3025614649797334\n",
      "Epoch 66  -----    j : 0.3012822922207721    -----   j_prev : 0.3019145263719647\n",
      "Epoch 67  -----    j : 0.300664237893032    -----   j_prev : 0.3012822922207721\n",
      "Epoch 68  -----    j : 0.3000598645677262    -----   j_prev : 0.300664237893032\n",
      "Epoch 69  -----    j : 0.2994686976180844    -----   j_prev : 0.3000598645677262\n",
      "Epoch 70  -----    j : 0.29889028511638105    -----   j_prev : 0.2994686976180844\n",
      "Epoch 71  -----    j : 0.2983241964505362    -----   j_prev : 0.29889028511638105\n",
      "Epoch 72  -----    j : 0.2977700210427643    -----   j_prev : 0.2983241964505362\n",
      "Epoch 73  -----    j : 0.29722736716148324    -----   j_prev : 0.2977700210427643\n",
      "Epoch 74  -----    j : 0.29669586081855465    -----   j_prev : 0.29722736716148324\n",
      "Epoch 75  -----    j : 0.2961751447446954    -----   j_prev : 0.29669586081855465\n",
      "Epoch 76  -----    j : 0.29566487743658504    -----   j_prev : 0.2961751447446954\n",
      "Epoch 77  -----    j : 0.2951647322698014    -----   j_prev : 0.29566487743658504\n",
      "Epoch 78  -----    j : 0.2946743966722677    -----   j_prev : 0.2951647322698014\n",
      "Epoch 79  -----    j : 0.29419357135338053    -----   j_prev : 0.2946743966722677\n",
      "Epoch 80  -----    j : 0.2937219695844296    -----   j_prev : 0.29419357135338053\n",
      "Epoch 81  -----    j : 0.2932593165263135    -----   j_prev : 0.2937219695844296\n",
      "Epoch 82  -----    j : 0.2928053486009117    -----   j_prev : 0.2932593165263135\n",
      "Epoch 83  -----    j : 0.29235981290279134    -----   j_prev : 0.2928053486009117\n",
      "Epoch 84  -----    j : 0.29192246664821775    -----   j_prev : 0.29235981290279134\n",
      "Epoch 85  -----    j : 0.29149307665869445    -----   j_prev : 0.29192246664821775\n",
      "Epoch 86  -----    j : 0.291071418876498    -----   j_prev : 0.29149307665869445\n",
      "Epoch 87  -----    j : 0.29065727790988216    -----   j_prev : 0.291071418876498\n",
      "Epoch 88  -----    j : 0.290250446605821    -----   j_prev : 0.29065727790988216\n",
      "Epoch 89  -----    j : 0.289850725648334    -----   j_prev : 0.290250446605821\n",
      "Epoch 90  -----    j : 0.2894579231805965    -----   j_prev : 0.289850725648334\n",
      "Epoch 91  -----    j : 0.28907185444918276    -----   j_prev : 0.2894579231805965\n",
      "Epoch 92  -----    j : 0.28869234146891865    -----   j_prev : 0.28907185444918276\n",
      "Epoch 93  -----    j : 0.2883192127069443    -----   j_prev : 0.28869234146891865\n",
      "Epoch 94  -----    j : 0.2879523027846916    -----   j_prev : 0.2883192127069443\n",
      "Epoch 95  -----    j : 0.28759145219658544    -----   j_prev : 0.2879523027846916\n",
      "Epoch 96  -----    j : 0.28723650704436465    -----   j_prev : 0.28759145219658544\n",
      "Epoch 97  -----    j : 0.2868873187860051    -----   j_prev : 0.28723650704436465\n",
      "Epoch 98  -----    j : 0.2865437439983016    -----   j_prev : 0.2868873187860051\n",
      "Epoch 99  -----    j : 0.28620564415223476    -----   j_prev : 0.2865437439983016\n",
      "Epoch 100  -----    j : 0.285872885400315    -----   j_prev : 0.28620564415223476\n",
      "Epoch 101  -----    j : 0.28554533837515184    -----   j_prev : 0.285872885400315\n",
      "Epoch 102  -----    j : 0.28522287799855317    -----   j_prev : 0.28554533837515184\n",
      "Epoch 103  -----    j : 0.2849053833005062    -----   j_prev : 0.28522287799855317\n",
      "Epoch 104  -----    j : 0.2845927372474398    -----   j_prev : 0.2849053833005062\n",
      "Epoch 105  -----    j : 0.28428482657920856    -----   j_prev : 0.2845927372474398\n",
      "Epoch 106  -----    j : 0.28398154165427664    -----   j_prev : 0.28428482657920856\n",
      "Epoch 107  -----    j : 0.28368277630261796    -----   j_prev : 0.28398154165427664\n",
      "Epoch 108  -----    j : 0.2833884276858797    -----   j_prev : 0.28368277630261796\n",
      "Epoch 109  -----    j : 0.2830983961643872    -----   j_prev : 0.2833884276858797\n",
      "Epoch 110  -----    j : 0.2828125851705973    -----   j_prev : 0.2830983961643872\n",
      "Epoch 111  -----    j : 0.28253090108863177    -----   j_prev : 0.2828125851705973\n",
      "Epoch 112  -----    j : 0.2822532531395469    -----   j_prev : 0.28253090108863177\n",
      "Epoch 113  -----    j : 0.2819795532720201    -----   j_prev : 0.2822532531395469\n",
      "Epoch 114  -----    j : 0.2817097160581497    -----   j_prev : 0.2819795532720201\n",
      "Epoch 115  -----    j : 0.2814436585940889    -----   j_prev : 0.2817097160581497\n",
      "Epoch 116  -----    j : 0.28118130040524913    -----   j_prev : 0.2814436585940889\n",
      "Epoch 117  -----    j : 0.28092256335582616    -----   j_prev : 0.28118130040524913\n",
      "Epoch 118  -----    j : 0.28066737156241633    -----   j_prev : 0.28092256335582616\n"
     ]
    },
    {
     "name": "stdout",
     "output_type": "stream",
     "text": [
      "Epoch 119  -----    j : 0.28041565131150653    -----   j_prev : 0.28066737156241633\n",
      "Epoch 120  -----    j : 0.2801673309806323    -----   j_prev : 0.28041565131150653\n",
      "Epoch 121  -----    j : 0.279922340963014    -----   j_prev : 0.2801673309806323\n",
      "Epoch 122  -----    j : 0.27968061359548835    -----   j_prev : 0.279922340963014\n",
      "Epoch 123  -----    j : 0.2794420830895684    -----   j_prev : 0.27968061359548835\n",
      "Epoch 124  -----    j : 0.27920668546546956    -----   j_prev : 0.2794420830895684\n",
      "Epoch 125  -----    j : 0.2789743584889539    -----   j_prev : 0.27920668546546956\n",
      "Epoch 126  -----    j : 0.2787450416108502    -----   j_prev : 0.2789743584889539\n",
      "Epoch 127  -----    j : 0.2785186759091159    -----   j_prev : 0.2787450416108502\n",
      "Epoch 128  -----    j : 0.27829520403331603    -----   j_prev : 0.2785186759091159\n",
      "Epoch 129  -----    j : 0.278074570151401    -----   j_prev : 0.27829520403331603\n",
      "Epoch 130  -----    j : 0.27785671989866956    -----   j_prev : 0.278074570151401\n",
      "Epoch 131  -----    j : 0.27764160032881374    -----   j_prev : 0.27785671989866956\n",
      "Epoch 132  -----    j : 0.277429159866944    -----   j_prev : 0.27764160032881374\n",
      "Epoch 133  -----    j : 0.2772193482645015    -----   j_prev : 0.277429159866944\n",
      "Epoch 134  -----    j : 0.27701211655596786    -----   j_prev : 0.2772193482645015\n",
      "Epoch 135  -----    j : 0.27680741701728856    -----   j_prev : 0.27701211655596786\n",
      "Epoch 136  -----    j : 0.27660520312592984    -----   j_prev : 0.27680741701728856\n",
      "Epoch 137  -----    j : 0.2764054295224937    -----   j_prev : 0.27660520312592984\n",
      "Epoch 138  -----    j : 0.2762080519738201    -----   j_prev : 0.2764054295224937\n",
      "Epoch 139  -----    j : 0.2760130273375077    -----   j_prev : 0.2762080519738201\n",
      "Epoch 140  -----    j : 0.27582031352778996    -----   j_prev : 0.2760130273375077\n",
      "Epoch 141  -----    j : 0.2756298694827049    -----   j_prev : 0.27582031352778996\n",
      "Epoch 142  -----    j : 0.27544165513250185    -----   j_prev : 0.2756298694827049\n",
      "Epoch 143  -----    j : 0.2752556313692297    -----   j_prev : 0.27544165513250185\n",
      "Epoch 144  -----    j : 0.27507176001745415    -----   j_prev : 0.2752556313692297\n",
      "Epoch 145  -----    j : 0.2748900038060569    -----   j_prev : 0.27507176001745415\n",
      "Epoch 146  -----    j : 0.274710326341067    -----   j_prev : 0.2748900038060569\n",
      "Epoch 147  -----    j : 0.274532692079482    -----   j_prev : 0.274710326341067\n",
      "Epoch 148  -----    j : 0.274357066304036    -----   j_prev : 0.274532692079482\n",
      "Epoch 149  -----    j : 0.2741834150988738    -----   j_prev : 0.274357066304036\n",
      "Epoch 150  -----    j : 0.2740117053260934    -----   j_prev : 0.2741834150988738\n",
      "Epoch 151  -----    j : 0.27384190460312086    -----   j_prev : 0.2740117053260934\n",
      "Epoch 152  -----    j : 0.27367398128088133    -----   j_prev : 0.27384190460312086\n",
      "Epoch 153  -----    j : 0.2735079044227358    -----   j_prev : 0.27367398128088133\n",
      "Epoch 154  -----    j : 0.2733436437841493    -----   j_prev : 0.2735079044227358\n",
      "Epoch 155  -----    j : 0.2731811697930625    -----   j_prev : 0.2733436437841493\n",
      "Epoch 156  -----    j : 0.2730204535309375    -----   j_prev : 0.2731811697930625\n",
      "Epoch 157  -----    j : 0.27286146671445094    -----   j_prev : 0.2730204535309375\n",
      "Epoch 158  -----    j : 0.2727041816778079    -----   j_prev : 0.27286146671445094\n",
      "Epoch 159  -----    j : 0.2725485713556528    -----   j_prev : 0.2727041816778079\n",
      "Epoch 160  -----    j : 0.27239460926655207    -----   j_prev : 0.2725485713556528\n",
      "Epoch 161  -----    j : 0.2722422694970281    -----   j_prev : 0.27239460926655207\n",
      "Epoch 162  -----    j : 0.2720915266861213    -----   j_prev : 0.2722422694970281\n",
      "Epoch 163  -----    j : 0.27194235601046063    -----   j_prev : 0.2720915266861213\n",
      "Epoch 164  -----    j : 0.2717947331698223    -----   j_prev : 0.27194235601046063\n",
      "Epoch 165  -----    j : 0.27164863437315834    -----   j_prev : 0.2717947331698223\n",
      "Epoch 166  -----    j : 0.2715040363250777    -----   j_prev : 0.27164863437315834\n",
      "Epoch 167  -----    j : 0.27136091621276026    -----   j_prev : 0.2715040363250777\n",
      "Epoch 168  -----    j : 0.2712192516932913    -----   j_prev : 0.27136091621276026\n",
      "Epoch 169  -----    j : 0.2710790208813968    -----   j_prev : 0.2712192516932913\n",
      "Epoch 170  -----    j : 0.27094020233756677    -----   j_prev : 0.2710790208813968\n",
      "Epoch 171  -----    j : 0.27080277505655226    -----   j_prev : 0.27094020233756677\n",
      "Epoch 172  -----    j : 0.27066671845622114    -----   j_prev : 0.27080277505655226\n",
      "Epoch 173  -----    j : 0.27053201236676044    -----   j_prev : 0.27066671845622114\n",
      "Epoch 174  -----    j : 0.27039863702021205    -----   j_prev : 0.27053201236676044\n",
      "Epoch 175  -----    j : 0.2702665730403301    -----   j_prev : 0.27039863702021205\n",
      "Epoch 176  -----    j : 0.27013580143274807    -----   j_prev : 0.2702665730403301\n",
      "Epoch 177  -----    j : 0.27000630357544503    -----   j_prev : 0.27013580143274807\n",
      "Epoch 178  -----    j : 0.2698780612094996    -----   j_prev : 0.27000630357544503\n",
      "Epoch 179  -----    j : 0.269751056430122    -----   j_prev : 0.2698780612094996\n",
      "Epoch 180  -----    j : 0.2696252716779544    -----   j_prev : 0.269751056430122\n",
      "Epoch 181  -----    j : 0.2695006897306296    -----   j_prev : 0.2696252716779544\n",
      "Epoch 182  -----    j : 0.26937729369457963    -----   j_prev : 0.2695006897306296\n",
      "Epoch 183  -----    j : 0.2692550669970855    -----   j_prev : 0.26937729369457963\n",
      "Epoch 184  -----    j : 0.26913399337855937    -----   j_prev : 0.2692550669970855\n",
      "Epoch 185  -----    j : 0.26901405688505114    -----   j_prev : 0.26913399337855937\n",
      "Epoch 186  -----    j : 0.26889524186097336    -----   j_prev : 0.26901405688505114\n",
      "Epoch 187  -----    j : 0.2687775329420338    -----   j_prev : 0.26889524186097336\n",
      "Epoch 188  -----    j : 0.2686609150483723    -----   j_prev : 0.2687775329420338\n",
      "Epoch 189  -----    j : 0.2685453733778927    -----   j_prev : 0.2686609150483723\n",
      "Epoch 190  -----    j : 0.26843089339978377    -----   j_prev : 0.2685453733778927\n",
      "Epoch 191  -----    j : 0.2683174608482233    -----   j_prev : 0.26843089339978377\n",
      "Epoch 192  -----    j : 0.26820506171625924    -----   j_prev : 0.2683174608482233\n",
      "Epoch 193  -----    j : 0.26809368224986135    -----   j_prev : 0.26820506171625924\n",
      "Epoch 194  -----    j : 0.26798330894213845    -----   j_prev : 0.26809368224986135\n",
      "Epoch 195  -----    j : 0.2678739285277163    -----   j_prev : 0.26798330894213845\n",
      "Epoch 196  -----    j : 0.2677655279772692    -----   j_prev : 0.2678739285277163\n",
      "Epoch 197  -----    j : 0.26765809449220196    -----   j_prev : 0.2677655279772692\n",
      "Epoch 198  -----    j : 0.2675516154994775    -----   j_prev : 0.26765809449220196\n",
      "Epoch 199  -----    j : 0.26744607864658326    -----   j_prev : 0.2675516154994775\n",
      "Epoch 200  -----    j : 0.26734147179663553    -----   j_prev : 0.26744607864658326\n",
      "Epoch 201  -----    j : 0.26723778302361323    -----   j_prev : 0.26734147179663553\n",
      "Epoch 202  -----    j : 0.267135000607721    -----   j_prev : 0.26723778302361323\n",
      "Epoch 203  -----    j : 0.26703311303087446    -----   j_prev : 0.267135000607721\n",
      "Epoch 204  -----    j : 0.2669321089723057    -----   j_prev : 0.26703311303087446\n",
      "Epoch 205  -----    j : 0.2668319773042845    -----   j_prev : 0.2669321089723057\n",
      "Epoch 206  -----    j : 0.26673270708795166    -----   j_prev : 0.2668319773042845\n"
     ]
    }
   ],
   "source": [
    "weights, training_cost, validation_cost, epochs = gradient_descent(xtrain, ytrain, xval, yval, learning_rate, initial_weights,\\\n",
    "                                                                 batch_size, threshold_diff)"
   ]
  },
  {
   "cell_type": "code",
   "execution_count": 101,
   "id": "44479a9e",
   "metadata": {},
   "outputs": [
    {
     "data": {
      "image/png": "[encoded data removed]",
      "text/plain": [
       "<Figure size 432x288 with 1 Axes>"
      ]
     },
     "metadata": {
      "needs_background": "light"
     },
     "output_type": "display_data"
    }
   ],
   "source": [
    "plt.plot(epochs, training_cost, 'ro', label='Train Loss')\n",
    "plt.plot(epochs, validation_cost, 'r', label='Validation Loss')\n",
    "plt.xlabel('Epoch number')\n",
    "plt.ylabel('Loss')\n",
    "plt.title('Comparing training and validation loss for Logistic Regression')\n",
    "plt.legend()\n",
    "plt.show()"
   ]
  },
  {
   "cell_type": "code",
   "execution_count": 102,
   "id": "42a404ba",
   "metadata": {},
   "outputs": [],
   "source": [
    "pred_val = predict(weights, xtest)"
   ]
  },
  {
   "cell_type": "code",
   "execution_count": 103,
   "id": "e28322c7",
   "metadata": {
    "scrolled": true
   },
   "outputs": [
    {
     "name": "stdout",
     "output_type": "stream",
     "text": [
      "[[0.11653384 0.         0.        ]\n",
      " [0.0034044  0.         0.        ]\n",
      " [0.20912549 0.         0.        ]\n",
      " ...\n",
      " [0.03579811 0.         0.        ]\n",
      " [0.62080326 1.         1.        ]\n",
      " [0.98607708 1.         0.        ]]\n"
     ]
    }
   ],
   "source": [
    "print(np.hstack((hypothesis(weights, xtest), pred_val, ytest)))"
   ]
  },
  {
   "cell_type": "code",
   "execution_count": 104,
   "id": "56cd069c",
   "metadata": {},
   "outputs": [
    {
     "name": "stdout",
     "output_type": "stream",
     "text": [
      "0.755625\n",
      "391\n",
      "(1600, 1)\n"
     ]
    }
   ],
   "source": [
    "accuracy, wrong_counts = accuracy_score(ytest, pred_val)\n",
    "print(accuracy)\n",
    "print(wrong_counts)\n",
    "print(pred_val.shape)"
   ]
  },
  {
   "cell_type": "code",
   "execution_count": 105,
   "id": "bf88f37d",
   "metadata": {},
   "outputs": [
    {
     "name": "stdout",
     "output_type": "stream",
     "text": [
      "0.755625\n"
     ]
    }
   ],
   "source": [
    "from sklearn import metrics\n",
    "print(metrics.accuracy_score(ytest, pred_val))"
   ]
  },
  {
   "cell_type": "markdown",
   "id": "294986a5",
   "metadata": {},
   "source": [
    "# Note : With Regularization\n",
    "- as we can see through the graph that model fits on train data, but on validation, loss start to increase after minima\n",
    "- so this is the condition of overfitting\n",
    "- now we will use regularization to overcome this problem\n"
   ]
  },
  {
   "cell_type": "code",
   "execution_count": 106,
   "id": "9c76792a",
   "metadata": {},
   "outputs": [],
   "source": [
    "def reg_cost(weights, x, y, lamda):\n",
    "    # x: m x n\n",
    "    # y: m x 1\n",
    "    m = y.shape[0]\n",
    "    h = hypothesis(weights, x) # m x 1\n",
    "    j = -(np.dot(np.transpose(y), np.log(h)) + np.dot(np.transpose(1 - y), np.log(1 - h)))\n",
    "    j = j + (lamda/2)*(np.sum(np.square(weights[1:, :]))) # regularization term\n",
    "    j /= m\n",
    "    #print('cost : {}'.format(j))\n",
    "    return j"
   ]
  },
  {
   "cell_type": "code",
   "execution_count": 107,
   "id": "32ea2c2f",
   "metadata": {
    "scrolled": true
   },
   "outputs": [],
   "source": [
    "def reg_update_weights(weights, x, y, k, lamda):\n",
    "    # x: m x n\n",
    "    # y: m x 1\n",
    "    # weights: n x 1\n",
    "    weights0, weights_i = weights[0:1, :], weights[1:, :]\n",
    "    x0, x_i = x[:, 0:1], x[:, 1:]\n",
    "    weights0 = weights0 - k * (np.dot(np.transpose(x0), hypothesis(weights0, x0) - y))\n",
    "    weights_i = weights_i*(1-k*lamda) - k * (np.dot(np.transpose(x_i), hypothesis(weights_i, x_i) - y)) #regularization added\n",
    "    #print('updated weights {}'.format(weights))\n",
    "    return np.vstack((weights0, weights_i))"
   ]
  },
  {
   "cell_type": "code",
   "execution_count": 108,
   "id": "ddb2d325",
   "metadata": {},
   "outputs": [],
   "source": [
    "def reg_gradient_descent(xtrain, ytrain, xval, yval, lr, weights, batch_size, threshold_diff, lamda):\n",
    "    from IPython.display import display, clear_output\n",
    "    import time\n",
    "    k = lr/batch_size\n",
    "    total_sample = xtrain.shape[0]\n",
    "    j_prev = np.array([[100000000]])\n",
    "    i = 0\n",
    "    epoch = 0\n",
    "    training_cost = []\n",
    "    validation_cost = []\n",
    "    while True:\n",
    "        for i in range(0 ,total_sample, batch_size):\n",
    "            x_data = xtrain[i:i+batch_size, :]\n",
    "            y_data = ytrain[i:i+batch_size, :]\n",
    "            weights = reg_update_weights(weights, x_data, y_data, k, lamda)\n",
    "        j = reg_cost(weights, xtrain, ytrain, lamda)\n",
    "        j_val = reg_cost(weights, xval, yval, lamda)\n",
    "        print('Epoch {}'.format(epoch) + '  -----    j : {}'.format(j.item()) + '   -----   j_prev : {}'.format(j_prev.item()))\n",
    "        epoch += 1\n",
    "        training_cost.append(j.item())\n",
    "        validation_cost.append(j_val.item())\n",
    "        if (j_prev - j) < threshold_diff:\n",
    "            break\n",
    "        j_prev = j\n",
    "    return weights, training_cost, validation_cost, range(1, epoch + 1)"
   ]
  },
  {
   "cell_type": "code",
   "execution_count": 109,
   "id": "d8ac42ab",
   "metadata": {
    "scrolled": true
   },
   "outputs": [
    {
     "name": "stdout",
     "output_type": "stream",
     "text": [
      "Epoch 0  -----    j : 0.6251647629523174   -----   j_prev : 100000000\n",
      "Epoch 1  -----    j : 0.5778650890567615   -----   j_prev : 0.6251647629523174\n",
      "Epoch 2  -----    j : 0.5437285483324907   -----   j_prev : 0.5778650890567615\n",
      "Epoch 3  -----    j : 0.518152465809885   -----   j_prev : 0.5437285483324907\n",
      "Epoch 4  -----    j : 0.49835331914139225   -----   j_prev : 0.518152465809885\n",
      "Epoch 5  -----    j : 0.48260460266580035   -----   j_prev : 0.49835331914139225\n",
      "Epoch 6  -----    j : 0.46979587146095536   -----   j_prev : 0.48260460266580035\n",
      "Epoch 7  -----    j : 0.45918607896871344   -----   j_prev : 0.46979587146095536\n",
      "Epoch 8  -----    j : 0.4502636029145207   -----   j_prev : 0.45918607896871344\n",
      "Epoch 9  -----    j : 0.44266439173768185   -----   j_prev : 0.4502636029145207\n",
      "Epoch 10  -----    j : 0.43612245095109087   -----   j_prev : 0.44266439173768185\n",
      "Epoch 11  -----    j : 0.4304388820723112   -----   j_prev : 0.43612245095109087\n",
      "Epoch 12  -----    j : 0.4254619153514787   -----   j_prev : 0.4304388820723112\n",
      "Epoch 13  -----    j : 0.42107366495838816   -----   j_prev : 0.4254619153514787\n",
      "Epoch 14  -----    j : 0.41718111703641036   -----   j_prev : 0.42107366495838816\n",
      "Epoch 15  -----    j : 0.4137098556947837   -----   j_prev : 0.41718111703641036\n",
      "Epoch 16  -----    j : 0.41059960394495915   -----   j_prev : 0.4137098556947837\n",
      "Epoch 17  -----    j : 0.4078009948791417   -----   j_prev : 0.41059960394495915\n",
      "Epoch 18  -----    j : 0.40527319385358707   -----   j_prev : 0.4078009948791417\n",
      "Epoch 19  -----    j : 0.40298212033092023   -----   j_prev : 0.40527319385358707\n",
      "Epoch 20  -----    j : 0.40089909946669844   -----   j_prev : 0.40298212033092023\n",
      "Epoch 21  -----    j : 0.3989998264682641   -----   j_prev : 0.40089909946669844\n",
      "Epoch 22  -----    j : 0.3972635618441468   -----   j_prev : 0.3989998264682641\n",
      "Epoch 23  -----    j : 0.39567249933681864   -----   j_prev : 0.3972635618441468\n",
      "Epoch 24  -----    j : 0.3942112645687953   -----   j_prev : 0.39567249933681864\n",
      "Epoch 25  -----    j : 0.39286651373909287   -----   j_prev : 0.3942112645687953\n",
      "Epoch 26  -----    j : 0.3916266096928513   -----   j_prev : 0.39286651373909287\n",
      "Epoch 27  -----    j : 0.3904813584016312   -----   j_prev : 0.3916266096928513\n",
      "Epoch 28  -----    j : 0.38942179303176205   -----   j_prev : 0.3904813584016312\n",
      "Epoch 29  -----    j : 0.388439995811604   -----   j_prev : 0.38942179303176205\n",
      "Epoch 30  -----    j : 0.3875289501552901   -----   j_prev : 0.388439995811604\n",
      "Epoch 31  -----    j : 0.3866824171812494   -----   j_prev : 0.3875289501552901\n",
      "Epoch 32  -----    j : 0.38589483203303926   -----   j_prev : 0.3866824171812494\n",
      "Epoch 33  -----    j : 0.38516121637700135   -----   j_prev : 0.38589483203303926\n",
      "Epoch 34  -----    j : 0.3844771041941273   -----   j_prev : 0.38516121637700135\n",
      "Epoch 35  -----    j : 0.3838384785587225   -----   j_prev : 0.3844771041941273\n",
      "Epoch 36  -----    j : 0.38324171754513026   -----   j_prev : 0.3838384785587225\n",
      "Epoch 37  -----    j : 0.3826835477562315   -----   j_prev : 0.38324171754513026\n",
      "Epoch 38  -----    j : 0.38216100424612465   -----   j_prev : 0.3826835477562315\n",
      "Epoch 39  -----    j : 0.3816713958311497   -----   j_prev : 0.38216100424612465\n",
      "Epoch 40  -----    j : 0.38121227496092713   -----   j_prev : 0.3816713958311497\n",
      "Epoch 41  -----    j : 0.3807814114639746   -----   j_prev : 0.38121227496092713\n",
      "Epoch 42  -----    j : 0.380376769598104   -----   j_prev : 0.3807814114639746\n",
      "Epoch 43  -----    j : 0.3799964879298686   -----   j_prev : 0.380376769598104\n",
      "Epoch 44  -----    j : 0.3796388616442261   -----   j_prev : 0.3799964879298686\n",
      "Epoch 45  -----    j : 0.37930232694871685   -----   j_prev : 0.3796388616442261\n",
      "Epoch 46  -----    j : 0.3789854472885463   -----   j_prev : 0.37930232694871685\n",
      "Epoch 47  -----    j : 0.37868690113208914   -----   j_prev : 0.3789854472885463\n",
      "Epoch 48  -----    j : 0.37840547112221473   -----   j_prev : 0.37868690113208914\n",
      "Epoch 49  -----    j : 0.3781400344187792   -----   j_prev : 0.37840547112221473\n",
      "Epoch 50  -----    j : 0.3778895540827233   -----   j_prev : 0.3781400344187792\n",
      "Epoch 51  -----    j : 0.3776530713733238   -----   j_prev : 0.3778895540827233\n",
      "Epoch 52  -----    j : 0.3774296988479414   -----   j_prev : 0.3776530713733238\n",
      "Epoch 53  -----    j : 0.37721861416868546   -----   j_prev : 0.3774296988479414\n",
      "Epoch 54  -----    j : 0.37701905453321166   -----   j_prev : 0.37721861416868546\n",
      "Epoch 55  -----    j : 0.37683031165776426   -----   j_prev : 0.37701905453321166\n",
      "Epoch 56  -----    j : 0.37665172724988677   -----   j_prev : 0.37683031165776426\n",
      "Epoch 57  -----    j : 0.37648268891619613   -----   j_prev : 0.37665172724988677\n",
      "Epoch 58  -----    j : 0.3763226264574609   -----   j_prev : 0.37648268891619613\n",
      "Epoch 59  -----    j : 0.37617100850912505   -----   j_prev : 0.3763226264574609\n",
      "Epoch 60  -----    j : 0.37602733949049805   -----   j_prev : 0.37617100850912505\n",
      "Epoch 61  -----    j : 0.3758911568302446   -----   j_prev : 0.37602733949049805\n",
      "Epoch 62  -----    j : 0.3757620284396194   -----   j_prev : 0.3758911568302446\n",
      "Epoch 63  -----    j : 0.3756395504082126   -----   j_prev : 0.3757620284396194\n",
      "Epoch 64  -----    j : 0.3755233448998632   -----   j_prev : 0.3756395504082126\n",
      "Epoch 65  -----    j : 0.37541305822892107   -----   j_prev : 0.3755233448998632\n",
      "Epoch 66  -----    j : 0.37530835909924554   -----   j_prev : 0.37541305822892107\n",
      "Epoch 67  -----    j : 0.3752089369902624   -----   j_prev : 0.37530835909924554\n"
     ]
    }
   ],
   "source": [
    "lamda = 10000\n",
    "threshold_diff = 0.0001\n",
    "weights, training_cost, validation_cost, epochs = reg_gradient_descent(xtrain, ytrain, xval, yval, learning_rate, initial_weights,\\\n",
    "                                                                 batch_size, threshold_diff, lamda)"
   ]
  },
  {
   "cell_type": "code",
   "execution_count": 110,
   "id": "9b15b01b",
   "metadata": {},
   "outputs": [
    {
     "data": {
      "image/png": "[encoded data removed]",
      "text/plain": [
       "<Figure size 432x288 with 1 Axes>"
      ]
     },
     "metadata": {
      "needs_background": "light"
     },
     "output_type": "display_data"
    }
   ],
   "source": [
    "plt.plot(epochs, training_cost, 'ro', label='Train Loss')\n",
    "plt.plot(epochs, validation_cost, 'r', label='Validation Loss')\n",
    "plt.xlabel('Epoch number')\n",
    "plt.ylabel('Loss')\n",
    "plt.title('Comparing training and validation loss for Logistic Regression')\n",
    "plt.legend()\n",
    "plt.show()"
   ]
  },
  {
   "cell_type": "code",
   "execution_count": 111,
   "id": "2a767bd0",
   "metadata": {},
   "outputs": [],
   "source": [
    "pred_val = predict(weights, xtest)"
   ]
  },
  {
   "cell_type": "code",
   "execution_count": 112,
   "id": "7d6ce25d",
   "metadata": {},
   "outputs": [
    {
     "name": "stdout",
     "output_type": "stream",
     "text": [
      "[[0.35744897 0.         0.        ]\n",
      " [0.06060247 0.         0.        ]\n",
      " [0.19247981 0.         0.        ]\n",
      " ...\n",
      " [0.10364493 0.         0.        ]\n",
      " [0.49246689 0.         1.        ]\n",
      " [0.9569912  1.         0.        ]]\n"
     ]
    }
   ],
   "source": [
    "print(np.hstack((hypothesis(weights, xtest), pred_val, ytest)))"
   ]
  },
  {
   "cell_type": "code",
   "execution_count": 113,
   "id": "76bbe361",
   "metadata": {},
   "outputs": [
    {
     "name": "stdout",
     "output_type": "stream",
     "text": [
      "0.765\n",
      "376\n",
      "(1600, 1)\n"
     ]
    }
   ],
   "source": [
    "accuracy, wrong_counts = accuracy_score(ytest, pred_val)\n",
    "print(accuracy)\n",
    "print(wrong_counts)\n",
    "print(pred_val.shape)"
   ]
  },
  {
   "cell_type": "markdown",
   "id": "a4fb20c9",
   "metadata": {},
   "source": [
    "## Hence we can see the difference in the results of 2 models !!!"
   ]
  }
 ],
 "metadata": {
  "kernelspec": {
   "display_name": "Python 3 (ipykernel)",
   "language": "python",
   "name": "python3"
  },
  "language_info": {
   "codemirror_mode": {
    "name": "ipython",
    "version": 3
   },
   "file_extension": ".py",
   "mimetype": "text/x-python",
   "name": "python",
   "nbconvert_exporter": "python",
   "pygments_lexer": "ipython3",
   "version": "3.10.2"
  }
 },
 "nbformat": 4,
 "nbformat_minor": 5
}
