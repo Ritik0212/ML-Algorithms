{
 "cells": [
  {
   "cell_type": "code",
   "execution_count": 188,
   "id": "30a8ecfb",
   "metadata": {},
   "outputs": [],
   "source": [
    "from sklearn.model_selection import train_test_split\n",
    "import pandas as pd\n",
    "import numpy as np\n",
    "import seaborn as sns\n",
    "import matplotlib.pyplot as plt"
   ]
  },
  {
   "cell_type": "code",
   "execution_count": 179,
   "id": "5e38e2a6",
   "metadata": {},
   "outputs": [],
   "source": [
    "# k = [np.array(np.random.normal(1, 2, 10)) for i in range(4)]\n",
    "# print(np.c_[k].transpose())\n",
    "# print(np.r_[k])"
   ]
  },
  {
   "cell_type": "code",
   "execution_count": 180,
   "id": "cfdfadb7",
   "metadata": {},
   "outputs": [],
   "source": [
    "def generate_dataset(size, n_features, theta, std):\n",
    "    import pandas as pd\n",
    "    import numpy as np\n",
    "    assert n_features == len(theta)\n",
    "    theta = np.array(theta).reshape(len(theta), 1)\n",
    "    df = pd.DataFrame()\n",
    "    for i in range(n_features):\n",
    "        mean = np.random.randint(2, 10)\n",
    "        std = np.random.randint(2, 15)\n",
    "        #print('mean : {}'.format(mean))\n",
    "        #print('std : {}'.format(std))\n",
    "        df['f_{}'.format(i+1)] = np.random.normal(mean, std, size)\n",
    "    features_values = df[:].to_numpy()\n",
    "    #print(features_values.shape)\n",
    "    error = np.random.randn(size).reshape(size, 1)*std\n",
    "    df['t'] = features_values.dot(theta) + error\n",
    "    return df"
   ]
  },
  {
   "cell_type": "code",
   "execution_count": 181,
   "id": "a58a5f7a",
   "metadata": {},
   "outputs": [],
   "source": [
    "def ols(x, y):\n",
    "    m = len(x)\n",
    "    x_bias = np.c_[np.ones(m), x]\n",
    "    x_transpose = np.transpose(x_bias)\n",
    "    #print(x_bias)\n",
    "    #print(x_bias.transpose())\n",
    "    x_transpose_dot_x = x_transpose.dot(x_bias)\n",
    "    inv_x_transpose_dot_x = np.linalg.inv(x_transpose_dot_x)\n",
    "    x_transpose_dot_y = x_transpose.dot(y)\n",
    "    theta_pred = inv_x_transpose_dot_x.dot(x_transpose_dot_y)\n",
    "    return theta_pred[1:]"
   ]
  },
  {
   "cell_type": "code",
   "execution_count": 182,
   "id": "4628ac12",
   "metadata": {},
   "outputs": [],
   "source": [
    "def predict(x_input, theta):\n",
    "    x_input = x_input.to_numpy()\n",
    "    y_pred = x_input.dot(theta)\n",
    "    return y_pred"
   ]
  },
  {
   "cell_type": "code",
   "execution_count": 183,
   "id": "ec0a1a40",
   "metadata": {},
   "outputs": [],
   "source": [
    "def rmse(y_pred, y):\n",
    "    return np.sqrt(np.mean(np.square(np.subtract(y_pred, y))))"
   ]
  },
  {
   "cell_type": "code",
   "execution_count": 184,
   "id": "490a4e0f",
   "metadata": {},
   "outputs": [],
   "source": [
    "size = 1000\n",
    "n_features = 8\n",
    "theta = [1, 4, 3, 6, 2, 1, 3, 5]\n",
    "std = 10\n",
    "# train_data, test_data = a.iloc[:int(0.7*size), :], a.iloc[int(0.7*size):, :]\n",
    "\n"
   ]
  },
  {
   "cell_type": "code",
   "execution_count": 196,
   "id": "6b1d76c4",
   "metadata": {},
   "outputs": [
    {
     "name": "stdout",
     "output_type": "stream",
     "text": [
      "Theta values : [0.96966393 4.01034926 2.95715561 5.97873939 2.0253993  1.00841712\n",
      " 2.98394826 5.02355485]\n",
      "-------------------------\n",
      "Root mean squared error: 6.2931087056015045\n"
     ]
    }
   ],
   "source": [
    "a = generate_dataset(size, n_features, theta, std)\n",
    "xtrain, xtest, ytrain, ytest = train_test_split(a.iloc[:, :-1], a.iloc[:, -1], test_size=0.3)\n",
    "weights = ols(xtrain, ytrain)\n",
    "pred_values = predict(xtest, weights)\n",
    "rmse_output = rmse(pred_values, ytest)\n",
    "print('Theta values : {}'.format(weights))\n",
    "print('-------------------------')\n",
    "# print('    Predicted   Actual')\n",
    "# print(np.c_[pred_values, test_data.iloc[:, -1]])\n",
    "# print('-------------------------')\n",
    "print('Root mean squared error: {}'.format(rmse_output))"
   ]
  },
  {
   "cell_type": "code",
   "execution_count": 197,
   "id": "eef36194",
   "metadata": {},
   "outputs": [
    {
     "data": {
      "image/png": "[encoded data removed]",
      "text/plain": [
       "<Figure size 432x288 with 1 Axes>"
      ]
     },
     "metadata": {
      "needs_background": "light"
     },
     "output_type": "display_data"
    }
   ],
   "source": [
    "plt.scatter(ytest, pred_values, c='crimson')\n",
    "p1 = max(max(pred_values), max(ytest))\n",
    "p2 = min(min(pred_values), min(ytest))\n",
    "plt.plot([p1, p2], [p1, p2], 'b-') # the equation of x = y, (passes through origin)\n",
    "plt.show()"
   ]
  },
  {
   "cell_type": "code",
   "execution_count": null,
   "id": "ed7f771c",
   "metadata": {},
   "outputs": [],
   "source": []
  }
 ],
 "metadata": {
  "kernelspec": {
   "display_name": "Python 3 (ipykernel)",
   "language": "python",
   "name": "python3"
  },
  "language_info": {
   "codemirror_mode": {
    "name": "ipython",
    "version": 3
   },
   "file_extension": ".py",
   "mimetype": "text/x-python",
   "name": "python",
   "nbconvert_exporter": "python",
   "pygments_lexer": "ipython3",
   "version": "3.10.2"
  }
 },
 "nbformat": 4,
 "nbformat_minor": 5
}
