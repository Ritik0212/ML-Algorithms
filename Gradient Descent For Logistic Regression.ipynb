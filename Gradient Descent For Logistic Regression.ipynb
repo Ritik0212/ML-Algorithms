{
 "cells": [
  {
   "cell_type": "code",
   "execution_count": 28,
   "id": "d214f76b",
   "metadata": {},
   "outputs": [],
   "source": [
    "import pandas as pd\n",
    "import numpy as np\n",
    "import seaborn as sns\n",
    "from sklearn.model_selection import train_test_split\n",
    "import matplotlib.pyplot as plt\n",
    "from sklearn.datasets import make_classification"
   ]
  },
  {
   "cell_type": "code",
   "execution_count": 154,
   "id": "62299efb",
   "metadata": {},
   "outputs": [],
   "source": [
    "def generate_dataset(size, n_features):\n",
    "    a1, a2 = make_classification(n_samples=size, n_features=n_features, n_classes=2, n_informative=4, n_redundant=0)\n",
    "    a2 = a2.reshape(-1,1)\n",
    "    a1 = np.hstack((np.ones((a1.shape[0],1)), a1)) # adding bias column to dataset\n",
    "    print('dataset shape x: {} y: {}'.format(a1.shape, a2.shape))\n",
    "    return a1, a2"
   ]
  },
  {
   "cell_type": "code",
   "execution_count": 196,
   "id": "c3ebf3a0",
   "metadata": {},
   "outputs": [],
   "source": [
    "def hypothesis(weights, x):\n",
    "    # x: m x n\n",
    "    # weights: n x 1\n",
    "    h = np.power(1 + np.exp(np.negative(np.dot(x, weights))), -1)\n",
    "    return h # m x 1"
   ]
  },
  {
   "cell_type": "code",
   "execution_count": 197,
   "id": "84dbd2fb",
   "metadata": {},
   "outputs": [],
   "source": [
    "def cost(weights, x, y):\n",
    "    # x: m x n\n",
    "    # y: m x 1\n",
    "    m = y.shape[0]\n",
    "    h = hypothesis(weights, x) # m x 1\n",
    "    j = -(np.dot(np.transpose(y), np.log(h)) + np.dot(np.transpose(1 - y), np.log(1 - h)))/m\n",
    "    print('cost : {}'.format(j))\n",
    "    return j"
   ]
  },
  {
   "cell_type": "code",
   "execution_count": 203,
   "id": "49840cc9",
   "metadata": {},
   "outputs": [],
   "source": [
    "def update_weights(weights, x, y, k):\n",
    "    # x: m x n\n",
    "    # y: m x 1\n",
    "    # weights: n x 1\n",
    "    weights = weights - k * (np.dot(np.transpose(x), hypothesis(weights, x) - y))\n",
    "    print('updated weights {}'.format(weights))\n",
    "    return weights"
   ]
  },
  {
   "cell_type": "code",
   "execution_count": 204,
   "id": "3cd7dd87",
   "metadata": {},
   "outputs": [],
   "source": [
    "def gradient_descent(xtrain, ytrain, lr, weights, batch_size):\n",
    "    from IPython.display import display, clear_output\n",
    "    import time\n",
    "    k = lr/batch_size\n",
    "    total_sample = xtrain.shape[0]\n",
    "    j_prev = 100000000\n",
    "    t = 0\n",
    "    i = 0\n",
    "    while True:\n",
    "        for i in range(0 ,total_sample, batch_size):\n",
    "            x_data = xtrain[i:i+batch_size, :]\n",
    "            y_data = ytrain[i:i+batch_size, :]\n",
    "            weights = update_weights(weights, x_data, y_data, k)\n",
    "            j = cost(weights, x_data, y_data)\n",
    "            display('Iteration '+str(t) + ' sample '+ str(i) + '-----j : {}'.format(j)+ '-----j_prev : {}'.format(j_prev))\n",
    "            time.sleep(0.1)\n",
    "            clear_output(wait=True)\n",
    "            if abs(j_prev - j) < 0.00001:\n",
    "                break\n",
    "            j_prev = j\n",
    "        else:\n",
    "            t += 1\n",
    "            continue\n",
    "        break\n",
    "    return weights"
   ]
  },
  {
   "cell_type": "code",
   "execution_count": 200,
   "id": "fdddcbfb",
   "metadata": {},
   "outputs": [],
   "source": [
    "def predict(weights, xinput):\n",
    "    y = hypothesis(weights, xinput)\n",
    "    output = np.where(y >= 0.5, 1, 0)\n",
    "    return output"
   ]
  },
  {
   "cell_type": "code",
   "execution_count": 213,
   "id": "1f958dd3",
   "metadata": {},
   "outputs": [],
   "source": [
    "def accuracy_score(ytest, pred):\n",
    "    return np.sum(ytest == pred)/ytest.shape[0], np.sum(np.abs(pred_val-ytest))"
   ]
  },
  {
   "cell_type": "code",
   "execution_count": 205,
   "id": "411e3ff2",
   "metadata": {
    "scrolled": true
   },
   "outputs": [
    {
     "name": "stdout",
     "output_type": "stream",
     "text": [
      "dataset shape x: (10000, 5) y: (10000, 1)\n"
     ]
    }
   ],
   "source": [
    "xtrain, ytrain = generate_dataset(10000, 4)\n",
    "xtrain, xtest, ytrain, ytest = train_test_split(xtrain, ytrain, test_size=0.3)\n",
    "initial_weights = np.array([0]*5).reshape(-1, 1)\n",
    "learning_rate = 0.1\n",
    "batch_size = 10000"
   ]
  },
  {
   "cell_type": "code",
   "execution_count": 206,
   "id": "54fad02a",
   "metadata": {},
   "outputs": [
    {
     "name": "stdout",
     "output_type": "stream",
     "text": [
      "[[ 1.201605  ]\n",
      " [ 0.99087968]\n",
      " [-0.6729127 ]\n",
      " [ 1.29780923]\n",
      " [ 0.95925107]]\n"
     ]
    }
   ],
   "source": [
    "weights = gradient_descent(xtrain, ytrain, learning_rate, initial_weights, batch_size)\n",
    "print(weights)"
   ]
  },
  {
   "cell_type": "code",
   "execution_count": 207,
   "id": "42a404ba",
   "metadata": {},
   "outputs": [],
   "source": [
    "pred_val = predict(weights, xtest)"
   ]
  },
  {
   "cell_type": "code",
   "execution_count": 208,
   "id": "e28322c7",
   "metadata": {},
   "outputs": [
    {
     "name": "stdout",
     "output_type": "stream",
     "text": [
      "[[0.9860943  1.         1.        ]\n",
      " [0.00889801 0.         0.        ]\n",
      " [0.24136294 0.         0.        ]\n",
      " ...\n",
      " [0.8552246  1.         1.        ]\n",
      " [0.99942553 1.         1.        ]\n",
      " [0.88742154 1.         1.        ]]\n"
     ]
    }
   ],
   "source": [
    "print(np.hstack((hypothesis(weights, xtest), pred_val, ytest)))"
   ]
  },
  {
   "cell_type": "code",
   "execution_count": 214,
   "id": "56cd069c",
   "metadata": {},
   "outputs": [
    {
     "name": "stdout",
     "output_type": "stream",
     "text": [
      "0.896\n",
      "312\n"
     ]
    }
   ],
   "source": [
    "accuracy, wrong_counts = accuracy_score(ytest, pred_val)\n",
    "print(accuracy)\n",
    "print(wrong_counts)"
   ]
  },
  {
   "cell_type": "code",
   "execution_count": 211,
   "id": "bf88f37d",
   "metadata": {},
   "outputs": [
    {
     "name": "stdout",
     "output_type": "stream",
     "text": [
      "0.896\n"
     ]
    }
   ],
   "source": [
    "from sklearn import metrics\n",
    "print(metrics.accuracy_score(ytest, pred_val))"
   ]
  },
  {
   "cell_type": "code",
   "execution_count": null,
   "id": "defb51eb",
   "metadata": {},
   "outputs": [],
   "source": []
  }
 ],
 "metadata": {
  "kernelspec": {
   "display_name": "Python 3 (ipykernel)",
   "language": "python",
   "name": "python3"
  },
  "language_info": {
   "codemirror_mode": {
    "name": "ipython",
    "version": 3
   },
   "file_extension": ".py",
   "mimetype": "text/x-python",
   "name": "python",
   "nbconvert_exporter": "python",
   "pygments_lexer": "ipython3",
   "version": "3.10.2"
  }
 },
 "nbformat": 4,
 "nbformat_minor": 5
}
